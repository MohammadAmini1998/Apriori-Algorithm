{
 "cells": [
  {
   "cell_type": "code",
   "execution_count": 33,
   "metadata": {},
   "outputs": [],
   "source": [
    "import pandas as pd\n",
    "import numpy as np\n",
    "import math\n",
    "import time"
   ]
  },
  {
   "attachments": {},
   "cell_type": "markdown",
   "metadata": {},
   "source": [
    "First of all, we need to read our data. we do this with pd.read_cv and we put the header value to None because this dataset has no header. Also, we need to handle those Nan values. In order to do that, we replace them with 0. "
   ]
  },
  {
   "cell_type": "code",
   "execution_count": 34,
   "metadata": {},
   "outputs": [
    {
     "data": {
      "text/html": [
       "<div>\n",
       "<style scoped>\n",
       "    .dataframe tbody tr th:only-of-type {\n",
       "        vertical-align: middle;\n",
       "    }\n",
       "\n",
       "    .dataframe tbody tr th {\n",
       "        vertical-align: top;\n",
       "    }\n",
       "\n",
       "    .dataframe thead th {\n",
       "        text-align: right;\n",
       "    }\n",
       "</style>\n",
       "<table border=\"1\" class=\"dataframe\">\n",
       "  <thead>\n",
       "    <tr style=\"text-align: right;\">\n",
       "      <th></th>\n",
       "      <th>0</th>\n",
       "      <th>1</th>\n",
       "      <th>2</th>\n",
       "      <th>3</th>\n",
       "      <th>4</th>\n",
       "      <th>5</th>\n",
       "      <th>6</th>\n",
       "      <th>7</th>\n",
       "      <th>8</th>\n",
       "      <th>9</th>\n",
       "      <th>10</th>\n",
       "      <th>11</th>\n",
       "      <th>12</th>\n",
       "      <th>13</th>\n",
       "      <th>14</th>\n",
       "      <th>15</th>\n",
       "      <th>16</th>\n",
       "      <th>17</th>\n",
       "      <th>18</th>\n",
       "      <th>19</th>\n",
       "    </tr>\n",
       "  </thead>\n",
       "  <tbody>\n",
       "    <tr>\n",
       "      <th>0</th>\n",
       "      <td>shrimp</td>\n",
       "      <td>almonds</td>\n",
       "      <td>avocado</td>\n",
       "      <td>vegetables mix</td>\n",
       "      <td>green grapes</td>\n",
       "      <td>whole weat flour</td>\n",
       "      <td>yams</td>\n",
       "      <td>cottage cheese</td>\n",
       "      <td>energy drink</td>\n",
       "      <td>tomato juice</td>\n",
       "      <td>low fat yogurt</td>\n",
       "      <td>green tea</td>\n",
       "      <td>honey</td>\n",
       "      <td>salad</td>\n",
       "      <td>mineral water</td>\n",
       "      <td>salmon</td>\n",
       "      <td>antioxydant juice</td>\n",
       "      <td>frozen smoothie</td>\n",
       "      <td>spinach</td>\n",
       "      <td>olive oil</td>\n",
       "    </tr>\n",
       "    <tr>\n",
       "      <th>1</th>\n",
       "      <td>burgers</td>\n",
       "      <td>meatballs</td>\n",
       "      <td>eggs</td>\n",
       "      <td>0</td>\n",
       "      <td>0</td>\n",
       "      <td>0</td>\n",
       "      <td>0</td>\n",
       "      <td>0</td>\n",
       "      <td>0</td>\n",
       "      <td>0</td>\n",
       "      <td>0</td>\n",
       "      <td>0</td>\n",
       "      <td>0</td>\n",
       "      <td>0</td>\n",
       "      <td>0</td>\n",
       "      <td>0</td>\n",
       "      <td>0</td>\n",
       "      <td>0</td>\n",
       "      <td>0</td>\n",
       "      <td>0</td>\n",
       "    </tr>\n",
       "    <tr>\n",
       "      <th>2</th>\n",
       "      <td>chutney</td>\n",
       "      <td>0</td>\n",
       "      <td>0</td>\n",
       "      <td>0</td>\n",
       "      <td>0</td>\n",
       "      <td>0</td>\n",
       "      <td>0</td>\n",
       "      <td>0</td>\n",
       "      <td>0</td>\n",
       "      <td>0</td>\n",
       "      <td>0</td>\n",
       "      <td>0</td>\n",
       "      <td>0</td>\n",
       "      <td>0</td>\n",
       "      <td>0</td>\n",
       "      <td>0</td>\n",
       "      <td>0</td>\n",
       "      <td>0</td>\n",
       "      <td>0</td>\n",
       "      <td>0</td>\n",
       "    </tr>\n",
       "    <tr>\n",
       "      <th>3</th>\n",
       "      <td>turkey</td>\n",
       "      <td>avocado</td>\n",
       "      <td>0</td>\n",
       "      <td>0</td>\n",
       "      <td>0</td>\n",
       "      <td>0</td>\n",
       "      <td>0</td>\n",
       "      <td>0</td>\n",
       "      <td>0</td>\n",
       "      <td>0</td>\n",
       "      <td>0</td>\n",
       "      <td>0</td>\n",
       "      <td>0</td>\n",
       "      <td>0</td>\n",
       "      <td>0</td>\n",
       "      <td>0</td>\n",
       "      <td>0</td>\n",
       "      <td>0</td>\n",
       "      <td>0</td>\n",
       "      <td>0</td>\n",
       "    </tr>\n",
       "    <tr>\n",
       "      <th>4</th>\n",
       "      <td>mineral water</td>\n",
       "      <td>milk</td>\n",
       "      <td>energy bar</td>\n",
       "      <td>whole wheat rice</td>\n",
       "      <td>green tea</td>\n",
       "      <td>0</td>\n",
       "      <td>0</td>\n",
       "      <td>0</td>\n",
       "      <td>0</td>\n",
       "      <td>0</td>\n",
       "      <td>0</td>\n",
       "      <td>0</td>\n",
       "      <td>0</td>\n",
       "      <td>0</td>\n",
       "      <td>0</td>\n",
       "      <td>0</td>\n",
       "      <td>0</td>\n",
       "      <td>0</td>\n",
       "      <td>0</td>\n",
       "      <td>0</td>\n",
       "    </tr>\n",
       "  </tbody>\n",
       "</table>\n",
       "</div>"
      ],
      "text/plain": [
       "              0          1           2                 3             4   \\\n",
       "0         shrimp    almonds     avocado    vegetables mix  green grapes   \n",
       "1        burgers  meatballs        eggs                 0             0   \n",
       "2        chutney          0           0                 0             0   \n",
       "3         turkey    avocado           0                 0             0   \n",
       "4  mineral water       milk  energy bar  whole wheat rice     green tea   \n",
       "\n",
       "                 5     6               7             8             9   \\\n",
       "0  whole weat flour  yams  cottage cheese  energy drink  tomato juice   \n",
       "1                 0     0               0             0             0   \n",
       "2                 0     0               0             0             0   \n",
       "3                 0     0               0             0             0   \n",
       "4                 0     0               0             0             0   \n",
       "\n",
       "               10         11     12     13             14      15  \\\n",
       "0  low fat yogurt  green tea  honey  salad  mineral water  salmon   \n",
       "1               0          0      0      0              0       0   \n",
       "2               0          0      0      0              0       0   \n",
       "3               0          0      0      0              0       0   \n",
       "4               0          0      0      0              0       0   \n",
       "\n",
       "                  16               17       18         19  \n",
       "0  antioxydant juice  frozen smoothie  spinach  olive oil  \n",
       "1                  0                0        0          0  \n",
       "2                  0                0        0          0  \n",
       "3                  0                0        0          0  \n",
       "4                  0                0        0          0  "
      ]
     },
     "execution_count": 34,
     "metadata": {},
     "output_type": "execute_result"
    }
   ],
   "source": [
    "trans_df=pd.read_csv(\"market_data.csv\",header=None)\n",
    "trans_df.fillna(0,inplace=True)\n",
    "trans_df.head()"
   ]
  },
  {
   "attachments": {},
   "cell_type": "markdown",
   "metadata": {},
   "source": [
    "Here we do some visualization works in order to get a better understanding of the dataset. We show top 10 frequent items. "
   ]
  },
  {
   "cell_type": "code",
   "execution_count": 35,
   "metadata": {},
   "outputs": [
    {
     "data": {
      "text/html": [
       "<style type=\"text/css\">\n",
       "#T_626e4_row0_col1 {\n",
       "  background-color: #00441b;\n",
       "  color: #f1f1f1;\n",
       "}\n",
       "#T_626e4_row1_col1 {\n",
       "  background-color: #4eb264;\n",
       "  color: #f1f1f1;\n",
       "}\n",
       "#T_626e4_row2_col1 {\n",
       "  background-color: #5eb96b;\n",
       "  color: #f1f1f1;\n",
       "}\n",
       "#T_626e4_row3_col1 {\n",
       "  background-color: #68be70;\n",
       "  color: #000000;\n",
       "}\n",
       "#T_626e4_row4_col1 {\n",
       "  background-color: #7ac77b;\n",
       "  color: #000000;\n",
       "}\n",
       "#T_626e4_row5_col1 {\n",
       "  background-color: #c4e8bd;\n",
       "  color: #000000;\n",
       "}\n",
       "#T_626e4_row6_col1 {\n",
       "  background-color: #caeac3;\n",
       "  color: #000000;\n",
       "}\n",
       "#T_626e4_row7_col1 {\n",
       "  background-color: #f4fbf2;\n",
       "  color: #000000;\n",
       "}\n",
       "#T_626e4_row8_col1, #T_626e4_row9_col1 {\n",
       "  background-color: #f7fcf5;\n",
       "  color: #000000;\n",
       "}\n",
       "</style>\n",
       "<table id=\"T_626e4\">\n",
       "  <thead>\n",
       "    <tr>\n",
       "      <th class=\"blank level0\" >&nbsp;</th>\n",
       "      <th id=\"T_626e4_level0_col0\" class=\"col_heading level0 col0\" >items</th>\n",
       "      <th id=\"T_626e4_level0_col1\" class=\"col_heading level0 col1\" >incident_count</th>\n",
       "    </tr>\n",
       "  </thead>\n",
       "  <tbody>\n",
       "    <tr>\n",
       "      <th id=\"T_626e4_level0_row0\" class=\"row_heading level0 row0\" >0</th>\n",
       "      <td id=\"T_626e4_row0_col0\" class=\"data row0 col0\" >mineral water</td>\n",
       "      <td id=\"T_626e4_row0_col1\" class=\"data row0 col1\" >1788</td>\n",
       "    </tr>\n",
       "    <tr>\n",
       "      <th id=\"T_626e4_level0_row1\" class=\"row_heading level0 row1\" >1</th>\n",
       "      <td id=\"T_626e4_row1_col0\" class=\"data row1 col0\" >eggs</td>\n",
       "      <td id=\"T_626e4_row1_col1\" class=\"data row1 col1\" >1348</td>\n",
       "    </tr>\n",
       "    <tr>\n",
       "      <th id=\"T_626e4_level0_row2\" class=\"row_heading level0 row2\" >2</th>\n",
       "      <td id=\"T_626e4_row2_col0\" class=\"data row2 col0\" >spaghetti</td>\n",
       "      <td id=\"T_626e4_row2_col1\" class=\"data row2 col1\" >1306</td>\n",
       "    </tr>\n",
       "    <tr>\n",
       "      <th id=\"T_626e4_level0_row3\" class=\"row_heading level0 row3\" >3</th>\n",
       "      <td id=\"T_626e4_row3_col0\" class=\"data row3 col0\" >french fries</td>\n",
       "      <td id=\"T_626e4_row3_col1\" class=\"data row3 col1\" >1282</td>\n",
       "    </tr>\n",
       "    <tr>\n",
       "      <th id=\"T_626e4_level0_row4\" class=\"row_heading level0 row4\" >4</th>\n",
       "      <td id=\"T_626e4_row4_col0\" class=\"data row4 col0\" >chocolate</td>\n",
       "      <td id=\"T_626e4_row4_col1\" class=\"data row4 col1\" >1230</td>\n",
       "    </tr>\n",
       "    <tr>\n",
       "      <th id=\"T_626e4_level0_row5\" class=\"row_heading level0 row5\" >5</th>\n",
       "      <td id=\"T_626e4_row5_col0\" class=\"data row5 col0\" >green tea</td>\n",
       "      <td id=\"T_626e4_row5_col1\" class=\"data row5 col1\" >991</td>\n",
       "    </tr>\n",
       "    <tr>\n",
       "      <th id=\"T_626e4_level0_row6\" class=\"row_heading level0 row6\" >6</th>\n",
       "      <td id=\"T_626e4_row6_col0\" class=\"data row6 col0\" >milk</td>\n",
       "      <td id=\"T_626e4_row6_col1\" class=\"data row6 col1\" >972</td>\n",
       "    </tr>\n",
       "    <tr>\n",
       "      <th id=\"T_626e4_level0_row7\" class=\"row_heading level0 row7\" >7</th>\n",
       "      <td id=\"T_626e4_row7_col0\" class=\"data row7 col0\" >ground beef</td>\n",
       "      <td id=\"T_626e4_row7_col1\" class=\"data row7 col1\" >737</td>\n",
       "    </tr>\n",
       "    <tr>\n",
       "      <th id=\"T_626e4_level0_row8\" class=\"row_heading level0 row8\" >8</th>\n",
       "      <td id=\"T_626e4_row8_col0\" class=\"data row8 col0\" >frozen vegetables</td>\n",
       "      <td id=\"T_626e4_row8_col1\" class=\"data row8 col1\" >715</td>\n",
       "    </tr>\n",
       "    <tr>\n",
       "      <th id=\"T_626e4_level0_row9\" class=\"row_heading level0 row9\" >9</th>\n",
       "      <td id=\"T_626e4_row9_col0\" class=\"data row9 col0\" >pancakes</td>\n",
       "      <td id=\"T_626e4_row9_col1\" class=\"data row9 col1\" >713</td>\n",
       "    </tr>\n",
       "  </tbody>\n",
       "</table>\n"
      ],
      "text/plain": [
       "<pandas.io.formats.style.Styler at 0x16920f16490>"
      ]
     },
     "execution_count": 35,
     "metadata": {},
     "output_type": "execute_result"
    }
   ],
   "source": [
    "# Gather All Items of Each Transactions into Numpy Array\n",
    "transaction = []\n",
    "for i in range(0, trans_df.shape[0]):\n",
    "    for j in range(0, trans_df.shape[1]):\n",
    "        if trans_df.values[i,j]!=0:\n",
    "            transaction.append(trans_df.values[i,j])\n",
    "# converting to numpy array\n",
    "transaction = np.array(transaction)\n",
    "#  Transform Them a Pandas DataFrame\n",
    "data = pd.DataFrame(transaction, columns=[\"items\"]) \n",
    "# Put 1 to Each Item For Making Countable Table, to be able to perform Group By\n",
    "data[\"incident_count\"] = 1 \n",
    "#  Delete NaN Items from Dataset\n",
    "indexNames = data[data['items'] == \"nan\" ].index\n",
    "data.drop(indexNames , inplace=True)\n",
    "# Making a New Appropriate Pandas DataFrame for Visualizations  \n",
    "data_table = data.groupby(\"items\").sum().sort_values(\"incident_count\", ascending=False).reset_index()\n",
    "#  Initial Visualizations\n",
    "data_table.head(10).style.background_gradient(cmap='Greens')"
   ]
  },
  {
   "attachments": {},
   "cell_type": "markdown",
   "metadata": {},
   "source": [
    "Also we show all the items in a beautiful manner!. "
   ]
  },
  {
   "cell_type": "code",
   "execution_count": 36,
   "metadata": {},
   "outputs": [
    {
     "data": {
      "application/vnd.plotly.v1+json": {
       "config": {
        "plotlyServerURL": "https://plot.ly"
       },
       "data": [
        {
         "branchvalues": "total",
         "customdata": [
          [
           "burgers",
           654
          ],
          [
           "cake",
           608
          ],
          [
           "champagne",
           351
          ],
          [
           "chicken",
           450
          ],
          [
           "chocolate",
           1230
          ],
          [
           "cookies",
           603
          ],
          [
           "cooking oil",
           383
          ],
          [
           "eggs",
           1348
          ],
          [
           "escalope",
           595
          ],
          [
           "french fries",
           1282
          ],
          [
           "fresh bread",
           323
          ],
          [
           "frozen smoothie",
           475
          ],
          [
           "frozen vegetables",
           715
          ],
          [
           "grated cheese",
           393
          ],
          [
           "green tea",
           991
          ],
          [
           "ground beef",
           737
          ],
          [
           "herb & pepper",
           371
          ],
          [
           "honey",
           356
          ],
          [
           "low fat yogurt",
           574
          ],
          [
           "milk",
           972
          ],
          [
           "mineral water",
           1788
          ],
          [
           "olive oil",
           494
          ],
          [
           "pancakes",
           713
          ],
          [
           "salmon",
           319
          ],
          [
           "shrimp",
           536
          ],
          [
           "soup",
           379
          ],
          [
           "spaghetti",
           1306
          ],
          [
           "tomatoes",
           513
          ],
          [
           "turkey",
           469
          ],
          [
           "whole wheat rice",
           439
          ],
          [
           "(?)",
           878.0861688024746
          ]
         ],
         "domain": {
          "x": [
           0,
           1
          ],
          "y": [
           0,
           1
          ]
         },
         "hovertemplate": "labels=%{label}<br>incident_count=%{value}<br>parent=%{parent}<br>id=%{id}<br>items=%{customdata[0]}<br>color=%{color}<extra></extra>",
         "ids": [
          "all/burgers",
          "all/cake",
          "all/champagne",
          "all/chicken",
          "all/chocolate",
          "all/cookies",
          "all/cooking oil",
          "all/eggs",
          "all/escalope",
          "all/french fries",
          "all/fresh bread",
          "all/frozen smoothie",
          "all/frozen vegetables",
          "all/grated cheese",
          "all/green tea",
          "all/ground beef",
          "all/herb & pepper",
          "all/honey",
          "all/low fat yogurt",
          "all/milk",
          "all/mineral water",
          "all/olive oil",
          "all/pancakes",
          "all/salmon",
          "all/shrimp",
          "all/soup",
          "all/spaghetti",
          "all/tomatoes",
          "all/turkey",
          "all/whole wheat rice",
          "all"
         ],
         "labels": [
          "burgers",
          "cake",
          "champagne",
          "chicken",
          "chocolate",
          "cookies",
          "cooking oil",
          "eggs",
          "escalope",
          "french fries",
          "fresh bread",
          "frozen smoothie",
          "frozen vegetables",
          "grated cheese",
          "green tea",
          "ground beef",
          "herb & pepper",
          "honey",
          "low fat yogurt",
          "milk",
          "mineral water",
          "olive oil",
          "pancakes",
          "salmon",
          "shrimp",
          "soup",
          "spaghetti",
          "tomatoes",
          "turkey",
          "whole wheat rice",
          "all"
         ],
         "marker": {
          "coloraxis": "coloraxis",
          "colors": [
           654,
           608,
           351,
           450,
           1230,
           603,
           383,
           1348,
           595,
           1282,
           323,
           475,
           715,
           393,
           991,
           737,
           371,
           356,
           574,
           972,
           1788,
           494,
           713,
           319,
           536,
           379,
           1306,
           513,
           469,
           439,
           878.0861688024746
          ]
         },
         "name": "",
         "parents": [
          "all",
          "all",
          "all",
          "all",
          "all",
          "all",
          "all",
          "all",
          "all",
          "all",
          "all",
          "all",
          "all",
          "all",
          "all",
          "all",
          "all",
          "all",
          "all",
          "all",
          "all",
          "all",
          "all",
          "all",
          "all",
          "all",
          "all",
          "all",
          "all",
          "all",
          ""
         ],
         "type": "treemap",
         "values": [
          654,
          608,
          351,
          450,
          1230,
          603,
          383,
          1348,
          595,
          1282,
          323,
          475,
          715,
          393,
          991,
          737,
          371,
          356,
          574,
          972,
          1788,
          494,
          713,
          319,
          536,
          379,
          1306,
          513,
          469,
          439,
          20367
         ]
        }
       ],
       "layout": {
        "coloraxis": {
         "colorbar": {
          "title": {
           "text": "color"
          }
         },
         "colorscale": [
          [
           0,
           "rgb(247,252,245)"
          ],
          [
           0.125,
           "rgb(229,245,224)"
          ],
          [
           0.25,
           "rgb(199,233,192)"
          ],
          [
           0.375,
           "rgb(161,217,155)"
          ],
          [
           0.5,
           "rgb(116,196,118)"
          ],
          [
           0.625,
           "rgb(65,171,93)"
          ],
          [
           0.75,
           "rgb(35,139,69)"
          ],
          [
           0.875,
           "rgb(0,109,44)"
          ],
          [
           1,
           "rgb(0,68,27)"
          ]
         ]
        },
        "legend": {
         "tracegroupgap": 0
        },
        "margin": {
         "t": 60
        },
        "template": {
         "data": {
          "bar": [
           {
            "error_x": {
             "color": "#2a3f5f"
            },
            "error_y": {
             "color": "#2a3f5f"
            },
            "marker": {
             "line": {
              "color": "#E5ECF6",
              "width": 0.5
             },
             "pattern": {
              "fillmode": "overlay",
              "size": 10,
              "solidity": 0.2
             }
            },
            "type": "bar"
           }
          ],
          "barpolar": [
           {
            "marker": {
             "line": {
              "color": "#E5ECF6",
              "width": 0.5
             },
             "pattern": {
              "fillmode": "overlay",
              "size": 10,
              "solidity": 0.2
             }
            },
            "type": "barpolar"
           }
          ],
          "carpet": [
           {
            "aaxis": {
             "endlinecolor": "#2a3f5f",
             "gridcolor": "white",
             "linecolor": "white",
             "minorgridcolor": "white",
             "startlinecolor": "#2a3f5f"
            },
            "baxis": {
             "endlinecolor": "#2a3f5f",
             "gridcolor": "white",
             "linecolor": "white",
             "minorgridcolor": "white",
             "startlinecolor": "#2a3f5f"
            },
            "type": "carpet"
           }
          ],
          "choropleth": [
           {
            "colorbar": {
             "outlinewidth": 0,
             "ticks": ""
            },
            "type": "choropleth"
           }
          ],
          "contour": [
           {
            "colorbar": {
             "outlinewidth": 0,
             "ticks": ""
            },
            "colorscale": [
             [
              0,
              "#0d0887"
             ],
             [
              0.1111111111111111,
              "#46039f"
             ],
             [
              0.2222222222222222,
              "#7201a8"
             ],
             [
              0.3333333333333333,
              "#9c179e"
             ],
             [
              0.4444444444444444,
              "#bd3786"
             ],
             [
              0.5555555555555556,
              "#d8576b"
             ],
             [
              0.6666666666666666,
              "#ed7953"
             ],
             [
              0.7777777777777778,
              "#fb9f3a"
             ],
             [
              0.8888888888888888,
              "#fdca26"
             ],
             [
              1,
              "#f0f921"
             ]
            ],
            "type": "contour"
           }
          ],
          "contourcarpet": [
           {
            "colorbar": {
             "outlinewidth": 0,
             "ticks": ""
            },
            "type": "contourcarpet"
           }
          ],
          "heatmap": [
           {
            "colorbar": {
             "outlinewidth": 0,
             "ticks": ""
            },
            "colorscale": [
             [
              0,
              "#0d0887"
             ],
             [
              0.1111111111111111,
              "#46039f"
             ],
             [
              0.2222222222222222,
              "#7201a8"
             ],
             [
              0.3333333333333333,
              "#9c179e"
             ],
             [
              0.4444444444444444,
              "#bd3786"
             ],
             [
              0.5555555555555556,
              "#d8576b"
             ],
             [
              0.6666666666666666,
              "#ed7953"
             ],
             [
              0.7777777777777778,
              "#fb9f3a"
             ],
             [
              0.8888888888888888,
              "#fdca26"
             ],
             [
              1,
              "#f0f921"
             ]
            ],
            "type": "heatmap"
           }
          ],
          "heatmapgl": [
           {
            "colorbar": {
             "outlinewidth": 0,
             "ticks": ""
            },
            "colorscale": [
             [
              0,
              "#0d0887"
             ],
             [
              0.1111111111111111,
              "#46039f"
             ],
             [
              0.2222222222222222,
              "#7201a8"
             ],
             [
              0.3333333333333333,
              "#9c179e"
             ],
             [
              0.4444444444444444,
              "#bd3786"
             ],
             [
              0.5555555555555556,
              "#d8576b"
             ],
             [
              0.6666666666666666,
              "#ed7953"
             ],
             [
              0.7777777777777778,
              "#fb9f3a"
             ],
             [
              0.8888888888888888,
              "#fdca26"
             ],
             [
              1,
              "#f0f921"
             ]
            ],
            "type": "heatmapgl"
           }
          ],
          "histogram": [
           {
            "marker": {
             "pattern": {
              "fillmode": "overlay",
              "size": 10,
              "solidity": 0.2
             }
            },
            "type": "histogram"
           }
          ],
          "histogram2d": [
           {
            "colorbar": {
             "outlinewidth": 0,
             "ticks": ""
            },
            "colorscale": [
             [
              0,
              "#0d0887"
             ],
             [
              0.1111111111111111,
              "#46039f"
             ],
             [
              0.2222222222222222,
              "#7201a8"
             ],
             [
              0.3333333333333333,
              "#9c179e"
             ],
             [
              0.4444444444444444,
              "#bd3786"
             ],
             [
              0.5555555555555556,
              "#d8576b"
             ],
             [
              0.6666666666666666,
              "#ed7953"
             ],
             [
              0.7777777777777778,
              "#fb9f3a"
             ],
             [
              0.8888888888888888,
              "#fdca26"
             ],
             [
              1,
              "#f0f921"
             ]
            ],
            "type": "histogram2d"
           }
          ],
          "histogram2dcontour": [
           {
            "colorbar": {
             "outlinewidth": 0,
             "ticks": ""
            },
            "colorscale": [
             [
              0,
              "#0d0887"
             ],
             [
              0.1111111111111111,
              "#46039f"
             ],
             [
              0.2222222222222222,
              "#7201a8"
             ],
             [
              0.3333333333333333,
              "#9c179e"
             ],
             [
              0.4444444444444444,
              "#bd3786"
             ],
             [
              0.5555555555555556,
              "#d8576b"
             ],
             [
              0.6666666666666666,
              "#ed7953"
             ],
             [
              0.7777777777777778,
              "#fb9f3a"
             ],
             [
              0.8888888888888888,
              "#fdca26"
             ],
             [
              1,
              "#f0f921"
             ]
            ],
            "type": "histogram2dcontour"
           }
          ],
          "mesh3d": [
           {
            "colorbar": {
             "outlinewidth": 0,
             "ticks": ""
            },
            "type": "mesh3d"
           }
          ],
          "parcoords": [
           {
            "line": {
             "colorbar": {
              "outlinewidth": 0,
              "ticks": ""
             }
            },
            "type": "parcoords"
           }
          ],
          "pie": [
           {
            "automargin": true,
            "type": "pie"
           }
          ],
          "scatter": [
           {
            "fillpattern": {
             "fillmode": "overlay",
             "size": 10,
             "solidity": 0.2
            },
            "type": "scatter"
           }
          ],
          "scatter3d": [
           {
            "line": {
             "colorbar": {
              "outlinewidth": 0,
              "ticks": ""
             }
            },
            "marker": {
             "colorbar": {
              "outlinewidth": 0,
              "ticks": ""
             }
            },
            "type": "scatter3d"
           }
          ],
          "scattercarpet": [
           {
            "marker": {
             "colorbar": {
              "outlinewidth": 0,
              "ticks": ""
             }
            },
            "type": "scattercarpet"
           }
          ],
          "scattergeo": [
           {
            "marker": {
             "colorbar": {
              "outlinewidth": 0,
              "ticks": ""
             }
            },
            "type": "scattergeo"
           }
          ],
          "scattergl": [
           {
            "marker": {
             "colorbar": {
              "outlinewidth": 0,
              "ticks": ""
             }
            },
            "type": "scattergl"
           }
          ],
          "scattermapbox": [
           {
            "marker": {
             "colorbar": {
              "outlinewidth": 0,
              "ticks": ""
             }
            },
            "type": "scattermapbox"
           }
          ],
          "scatterpolar": [
           {
            "marker": {
             "colorbar": {
              "outlinewidth": 0,
              "ticks": ""
             }
            },
            "type": "scatterpolar"
           }
          ],
          "scatterpolargl": [
           {
            "marker": {
             "colorbar": {
              "outlinewidth": 0,
              "ticks": ""
             }
            },
            "type": "scatterpolargl"
           }
          ],
          "scatterternary": [
           {
            "marker": {
             "colorbar": {
              "outlinewidth": 0,
              "ticks": ""
             }
            },
            "type": "scatterternary"
           }
          ],
          "surface": [
           {
            "colorbar": {
             "outlinewidth": 0,
             "ticks": ""
            },
            "colorscale": [
             [
              0,
              "#0d0887"
             ],
             [
              0.1111111111111111,
              "#46039f"
             ],
             [
              0.2222222222222222,
              "#7201a8"
             ],
             [
              0.3333333333333333,
              "#9c179e"
             ],
             [
              0.4444444444444444,
              "#bd3786"
             ],
             [
              0.5555555555555556,
              "#d8576b"
             ],
             [
              0.6666666666666666,
              "#ed7953"
             ],
             [
              0.7777777777777778,
              "#fb9f3a"
             ],
             [
              0.8888888888888888,
              "#fdca26"
             ],
             [
              1,
              "#f0f921"
             ]
            ],
            "type": "surface"
           }
          ],
          "table": [
           {
            "cells": {
             "fill": {
              "color": "#EBF0F8"
             },
             "line": {
              "color": "white"
             }
            },
            "header": {
             "fill": {
              "color": "#C8D4E3"
             },
             "line": {
              "color": "white"
             }
            },
            "type": "table"
           }
          ]
         },
         "layout": {
          "annotationdefaults": {
           "arrowcolor": "#2a3f5f",
           "arrowhead": 0,
           "arrowwidth": 1
          },
          "autotypenumbers": "strict",
          "coloraxis": {
           "colorbar": {
            "outlinewidth": 0,
            "ticks": ""
           }
          },
          "colorscale": {
           "diverging": [
            [
             0,
             "#8e0152"
            ],
            [
             0.1,
             "#c51b7d"
            ],
            [
             0.2,
             "#de77ae"
            ],
            [
             0.3,
             "#f1b6da"
            ],
            [
             0.4,
             "#fde0ef"
            ],
            [
             0.5,
             "#f7f7f7"
            ],
            [
             0.6,
             "#e6f5d0"
            ],
            [
             0.7,
             "#b8e186"
            ],
            [
             0.8,
             "#7fbc41"
            ],
            [
             0.9,
             "#4d9221"
            ],
            [
             1,
             "#276419"
            ]
           ],
           "sequential": [
            [
             0,
             "#0d0887"
            ],
            [
             0.1111111111111111,
             "#46039f"
            ],
            [
             0.2222222222222222,
             "#7201a8"
            ],
            [
             0.3333333333333333,
             "#9c179e"
            ],
            [
             0.4444444444444444,
             "#bd3786"
            ],
            [
             0.5555555555555556,
             "#d8576b"
            ],
            [
             0.6666666666666666,
             "#ed7953"
            ],
            [
             0.7777777777777778,
             "#fb9f3a"
            ],
            [
             0.8888888888888888,
             "#fdca26"
            ],
            [
             1,
             "#f0f921"
            ]
           ],
           "sequentialminus": [
            [
             0,
             "#0d0887"
            ],
            [
             0.1111111111111111,
             "#46039f"
            ],
            [
             0.2222222222222222,
             "#7201a8"
            ],
            [
             0.3333333333333333,
             "#9c179e"
            ],
            [
             0.4444444444444444,
             "#bd3786"
            ],
            [
             0.5555555555555556,
             "#d8576b"
            ],
            [
             0.6666666666666666,
             "#ed7953"
            ],
            [
             0.7777777777777778,
             "#fb9f3a"
            ],
            [
             0.8888888888888888,
             "#fdca26"
            ],
            [
             1,
             "#f0f921"
            ]
           ]
          },
          "colorway": [
           "#636efa",
           "#EF553B",
           "#00cc96",
           "#ab63fa",
           "#FFA15A",
           "#19d3f3",
           "#FF6692",
           "#B6E880",
           "#FF97FF",
           "#FECB52"
          ],
          "font": {
           "color": "#2a3f5f"
          },
          "geo": {
           "bgcolor": "white",
           "lakecolor": "white",
           "landcolor": "#E5ECF6",
           "showlakes": true,
           "showland": true,
           "subunitcolor": "white"
          },
          "hoverlabel": {
           "align": "left"
          },
          "hovermode": "closest",
          "mapbox": {
           "style": "light"
          },
          "paper_bgcolor": "white",
          "plot_bgcolor": "#E5ECF6",
          "polar": {
           "angularaxis": {
            "gridcolor": "white",
            "linecolor": "white",
            "ticks": ""
           },
           "bgcolor": "#E5ECF6",
           "radialaxis": {
            "gridcolor": "white",
            "linecolor": "white",
            "ticks": ""
           }
          },
          "scene": {
           "xaxis": {
            "backgroundcolor": "#E5ECF6",
            "gridcolor": "white",
            "gridwidth": 2,
            "linecolor": "white",
            "showbackground": true,
            "ticks": "",
            "zerolinecolor": "white"
           },
           "yaxis": {
            "backgroundcolor": "#E5ECF6",
            "gridcolor": "white",
            "gridwidth": 2,
            "linecolor": "white",
            "showbackground": true,
            "ticks": "",
            "zerolinecolor": "white"
           },
           "zaxis": {
            "backgroundcolor": "#E5ECF6",
            "gridcolor": "white",
            "gridwidth": 2,
            "linecolor": "white",
            "showbackground": true,
            "ticks": "",
            "zerolinecolor": "white"
           }
          },
          "shapedefaults": {
           "line": {
            "color": "#2a3f5f"
           }
          },
          "ternary": {
           "aaxis": {
            "gridcolor": "white",
            "linecolor": "white",
            "ticks": ""
           },
           "baxis": {
            "gridcolor": "white",
            "linecolor": "white",
            "ticks": ""
           },
           "bgcolor": "#E5ECF6",
           "caxis": {
            "gridcolor": "white",
            "linecolor": "white",
            "ticks": ""
           }
          },
          "title": {
           "x": 0.05
          },
          "xaxis": {
           "automargin": true,
           "gridcolor": "white",
           "linecolor": "white",
           "ticks": "",
           "title": {
            "standoff": 15
           },
           "zerolinecolor": "white",
           "zerolinewidth": 2
          },
          "yaxis": {
           "automargin": true,
           "gridcolor": "white",
           "linecolor": "white",
           "ticks": "",
           "title": {
            "standoff": 15
           },
           "zerolinecolor": "white",
           "zerolinewidth": 2
          }
         }
        }
       }
      }
     },
     "metadata": {},
     "output_type": "display_data"
    }
   ],
   "source": [
    "# importing required module\n",
    "import plotly.express as px\n",
    "# to have a same origin\n",
    "data_table[\"all\"] = \"all\" \n",
    "# creating tree map using plotly\n",
    "fig = px.treemap(data_table.head(30), path=['all', \"items\"], values='incident_count',\n",
    "                  color=data_table[\"incident_count\"].head(30), hover_data=['items'],\n",
    "                  color_continuous_scale='Greens',\n",
    "                )\n",
    "# ploting the treemap\n",
    "fig.show()"
   ]
  },
  {
   "attachments": {},
   "cell_type": "markdown",
   "metadata": {},
   "source": [
    "prune function is for pruning the itemset which their support is below the threshold. we simply use Pandas to prune the items. We eliminate items below the threshold and keep the ones which meet our criteria. "
   ]
  },
  {
   "cell_type": "code",
   "execution_count": 37,
   "metadata": {},
   "outputs": [],
   "source": [
    "def prune(data,supp):\n",
    "    \n",
    "    df = data[data.supp_count >= supp] \n",
    "    return df"
   ]
  },
  {
   "cell_type": "code",
   "execution_count": 38,
   "metadata": {},
   "outputs": [],
   "source": [
    "number_of_transactions=trans_df.shape[0]\n"
   ]
  },
  {
   "attachments": {},
   "cell_type": "markdown",
   "metadata": {},
   "source": [
    "count_item function is for finding the 1-k itemsets and calculating the supoort of them. in order to do that, we first itertate over the rows of the dataset. if an item is not in out dictionary, we append it in our dictionary. and if it is, we increase its support with 1. As you remember, we replace the nan values with 0. So here we first check that item is not equal to 0 (which are our nan values) and then store them in our dictionary. Finally we store them in a dataframe and put the length of them equal to 1 because they are our 1-k itemsets."
   ]
  },
  {
   "cell_type": "code",
   "execution_count": 39,
   "metadata": {},
   "outputs": [],
   "source": [
    "\n",
    "def count_item(trans_items):\n",
    "    \n",
    "    count_ind_item = {}\n",
    "    for index, transaction in trans_items.iterrows():\n",
    "        for item in transaction:\n",
    "            if item in count_ind_item.keys() and item !=0:\n",
    "                count_ind_item[item] += 1\n",
    "            else:\n",
    "                count_ind_item[item] = 1\n",
    "    data = pd.DataFrame()\n",
    "    data['item_sets'] = count_ind_item.keys()\n",
    "    data['supp_count'] = count_ind_item.values()\n",
    "    data['length']=1\n",
    "\n",
    "    # data = data.sort_values('item_sets')\n",
    "    return data"
   ]
  },
  {
   "attachments": {},
   "cell_type": "markdown",
   "metadata": {},
   "source": [
    "count_itemset is exactly the same as the count_item. The difference is that here we want to calculate the support of k-itemsets instead of 1. As we did before, we iterate over the rows of the dataset and see that if each row contains the itemset. If an itemset exists in our dictionary we increase its support and if not, we add it to the dictionary and put its support equal to 1."
   ]
  },
  {
   "cell_type": "code",
   "execution_count": 40,
   "metadata": {},
   "outputs": [],
   "source": [
    "def count_itemset(transaction_df, itemsets):\n",
    "    count_item = {}\n",
    "    for item_set in itemsets:\n",
    "        set_A = set(item_set)\n",
    "        for index, transaction in trans_df.iterrows():\n",
    "            set_B = set(transaction)\n",
    "\n",
    "            if set_B.intersection(set_A) == set_A: \n",
    "                if item_set in count_item.keys():\n",
    "                    count_item[item_set] += 1\n",
    "                else:\n",
    "                    count_item[item_set] = 1\n",
    "        \n",
    "            \n",
    "    data = pd.DataFrame()\n",
    "    # for item_set in count_item.keys():\n",
    "    #     array.append()\n",
    "    data['item_sets'] = count_item.keys()\n",
    "    data['supp_count'] = count_item.values()\n",
    "    data['length'] = [len(item_set) for item_set in count_item.keys()]\n",
    "    return data"
   ]
  },
  {
   "attachments": {},
   "cell_type": "markdown",
   "metadata": {},
   "source": [
    "The join function takes a list of items as input and generates a set of itemsets that are candidates for frequent itemsets. For example we generate 2-itemsets from 1-itemsets. More specifically, the function works by iterating over each item in the input list and comparing it with all subsequent items in the list. If both items are strings and they are not equal, then a tuple is created containing the two items and added to the itemsets list. If both items are tuples and their first n-1 elements match, where n is the length of each tuple, then a new tuple is created by concatenating the first tuple with the last element of the second tuple, and this new tuple is added to the itemsets list. Finally, if no itemsets were generated, the function returns None. Otherwise, it returns the itemsets list."
   ]
  },
  {
   "cell_type": "code",
   "execution_count": 41,
   "metadata": {},
   "outputs": [],
   "source": [
    "def join(list_of_items):\n",
    "    itemsets = []\n",
    "    i = 1\n",
    "    for entry in list_of_items:\n",
    "        proceding_items = list_of_items[i:]\n",
    "        for item in proceding_items:\n",
    "            if(type(item) is str):\n",
    "                if entry != item:\n",
    "                    tuples = (entry, item)\n",
    "                    itemsets.append(tuples)\n",
    "            else:\n",
    "                if entry[0:-1] == item[0:-1]:\n",
    "                    tuples = entry+item[1:]\n",
    "                    itemsets.append(tuples)\n",
    "        i = i+1\n",
    "    if(len(itemsets) == 0):\n",
    "        return None\n",
    "    \n",
    "    return itemsets"
   ]
  },
  {
   "attachments": {},
   "cell_type": "markdown",
   "metadata": {},
   "source": [
    "apriori function is the main function of the algorithm. The function first initializes an empty DataFrame called freq to store the frequent itemsets that will be generated during the Apriori algorithm. It then calls the count_item function to generate the 1-itemsets from the transactional dataset trans_data.\n",
    "\n",
    "The function then enters a loop where it repeatedly prunes infrequent itemsets from the df DataFrame generated by count_item, and generates larger itemsets using the join function. The count_itemset function is then called to count the occurrences of these larger itemsets in the transactional dataset trans_data.\n",
    "\n",
    "If any frequent itemsets are found during this iteration of the loop, they are added to the freq DataFrame using the pd.merge() function. The loop continues until no more frequent itemsets can be generated, at which point the function returns the freq DataFrame containing all the frequent itemsets.\n",
    "\n",
    "Alternatively, if itemsets is None, indicating that no frequent itemsets were generated during the last iteration of the loop, the function returns the freq DataFrame."
   ]
  },
  {
   "cell_type": "code",
   "execution_count": 42,
   "metadata": {},
   "outputs": [],
   "source": [
    "def apriori(trans_data,supp):\n",
    "    freq = pd.DataFrame(columns=[\"item_sets\", \"supp_count\",\"length\"])\n",
    "    \n",
    "    \n",
    "    df = count_item(trans_data)\n",
    "   \n",
    "    while(len(df) != 0):\n",
    "        \n",
    "        df = prune(df, supp)\n",
    "       \n",
    "    \n",
    "        if len(df) > 1 or (len(df) == 1 and int(df.supp_count >= supp)):\n",
    "            freq =pd.merge(freq,df,how='outer',on=[\"item_sets\", \"supp_count\",'length'])\n",
    "        \n",
    "        itemsets = join(df.item_sets)\n",
    "    \n",
    "        if(itemsets is None):\n",
    "            return freq\n",
    "        df = count_itemset(trans_data, itemsets)\n",
    "    return df"
   ]
  },
  {
   "cell_type": "code",
   "execution_count": 43,
   "metadata": {},
   "outputs": [
    {
     "data": {
      "text/html": [
       "<div>\n",
       "<style scoped>\n",
       "    .dataframe tbody tr th:only-of-type {\n",
       "        vertical-align: middle;\n",
       "    }\n",
       "\n",
       "    .dataframe tbody tr th {\n",
       "        vertical-align: top;\n",
       "    }\n",
       "\n",
       "    .dataframe thead th {\n",
       "        text-align: right;\n",
       "    }\n",
       "</style>\n",
       "<table border=\"1\" class=\"dataframe\">\n",
       "  <thead>\n",
       "    <tr style=\"text-align: right;\">\n",
       "      <th></th>\n",
       "      <th>item_sets</th>\n",
       "      <th>supp_count</th>\n",
       "      <th>length</th>\n",
       "    </tr>\n",
       "  </thead>\n",
       "  <tbody>\n",
       "    <tr>\n",
       "      <th>0</th>\n",
       "      <td>shrimp</td>\n",
       "      <td>536</td>\n",
       "      <td>1</td>\n",
       "    </tr>\n",
       "    <tr>\n",
       "      <th>1</th>\n",
       "      <td>avocado</td>\n",
       "      <td>250</td>\n",
       "      <td>1</td>\n",
       "    </tr>\n",
       "    <tr>\n",
       "      <th>2</th>\n",
       "      <td>cottage cheese</td>\n",
       "      <td>239</td>\n",
       "      <td>1</td>\n",
       "    </tr>\n",
       "    <tr>\n",
       "      <th>3</th>\n",
       "      <td>energy drink</td>\n",
       "      <td>200</td>\n",
       "      <td>1</td>\n",
       "    </tr>\n",
       "    <tr>\n",
       "      <th>4</th>\n",
       "      <td>tomato juice</td>\n",
       "      <td>228</td>\n",
       "      <td>1</td>\n",
       "    </tr>\n",
       "    <tr>\n",
       "      <th>...</th>\n",
       "      <td>...</td>\n",
       "      <td>...</td>\n",
       "      <td>...</td>\n",
       "    </tr>\n",
       "    <tr>\n",
       "      <th>62</th>\n",
       "      <td>(french fries, spaghetti)</td>\n",
       "      <td>207</td>\n",
       "      <td>2</td>\n",
       "    </tr>\n",
       "    <tr>\n",
       "      <th>63</th>\n",
       "      <td>(french fries, chocolate)</td>\n",
       "      <td>258</td>\n",
       "      <td>2</td>\n",
       "    </tr>\n",
       "    <tr>\n",
       "      <th>64</th>\n",
       "      <td>(frozen vegetables, spaghetti)</td>\n",
       "      <td>209</td>\n",
       "      <td>2</td>\n",
       "    </tr>\n",
       "    <tr>\n",
       "      <th>65</th>\n",
       "      <td>(spaghetti, chocolate)</td>\n",
       "      <td>294</td>\n",
       "      <td>2</td>\n",
       "    </tr>\n",
       "    <tr>\n",
       "      <th>66</th>\n",
       "      <td>(spaghetti, ground beef)</td>\n",
       "      <td>294</td>\n",
       "      <td>2</td>\n",
       "    </tr>\n",
       "  </tbody>\n",
       "</table>\n",
       "<p>67 rows × 3 columns</p>\n",
       "</div>"
      ],
      "text/plain": [
       "                         item_sets  supp_count  length\n",
       "0                           shrimp         536       1\n",
       "1                          avocado         250       1\n",
       "2                   cottage cheese         239       1\n",
       "3                     energy drink         200       1\n",
       "4                     tomato juice         228       1\n",
       "..                             ...         ...     ...\n",
       "62       (french fries, spaghetti)         207       2\n",
       "63       (french fries, chocolate)         258       2\n",
       "64  (frozen vegetables, spaghetti)         209       2\n",
       "65          (spaghetti, chocolate)         294       2\n",
       "66        (spaghetti, ground beef)         294       2\n",
       "\n",
       "[67 rows x 3 columns]"
      ]
     },
     "execution_count": 43,
     "metadata": {},
     "output_type": "execute_result"
    }
   ],
   "source": [
    "freq_item_sets = apriori(trans_df, 200)\n",
    "freq_item_sets"
   ]
  },
  {
   "cell_type": "code",
   "execution_count": 44,
   "metadata": {},
   "outputs": [],
   "source": [
    "result_df=freq_item_sets\n",
    "\n"
   ]
  },
  {
   "attachments": {},
   "cell_type": "markdown",
   "metadata": {},
   "source": [
    "This code works with support count. In order to show the support, we simply devide each itemset's support by number of all transactions. Here we do that. "
   ]
  },
  {
   "cell_type": "code",
   "execution_count": 45,
   "metadata": {},
   "outputs": [
    {
     "data": {
      "text/html": [
       "<div>\n",
       "<style scoped>\n",
       "    .dataframe tbody tr th:only-of-type {\n",
       "        vertical-align: middle;\n",
       "    }\n",
       "\n",
       "    .dataframe tbody tr th {\n",
       "        vertical-align: top;\n",
       "    }\n",
       "\n",
       "    .dataframe thead th {\n",
       "        text-align: right;\n",
       "    }\n",
       "</style>\n",
       "<table border=\"1\" class=\"dataframe\">\n",
       "  <thead>\n",
       "    <tr style=\"text-align: right;\">\n",
       "      <th></th>\n",
       "      <th>item_sets</th>\n",
       "      <th>supp_count</th>\n",
       "      <th>length</th>\n",
       "    </tr>\n",
       "  </thead>\n",
       "  <tbody>\n",
       "    <tr>\n",
       "      <th>0</th>\n",
       "      <td>shrimp</td>\n",
       "      <td>0.071457</td>\n",
       "      <td>1</td>\n",
       "    </tr>\n",
       "    <tr>\n",
       "      <th>1</th>\n",
       "      <td>avocado</td>\n",
       "      <td>0.033329</td>\n",
       "      <td>1</td>\n",
       "    </tr>\n",
       "    <tr>\n",
       "      <th>2</th>\n",
       "      <td>cottage cheese</td>\n",
       "      <td>0.031862</td>\n",
       "      <td>1</td>\n",
       "    </tr>\n",
       "    <tr>\n",
       "      <th>3</th>\n",
       "      <td>energy drink</td>\n",
       "      <td>0.026663</td>\n",
       "      <td>1</td>\n",
       "    </tr>\n",
       "    <tr>\n",
       "      <th>4</th>\n",
       "      <td>tomato juice</td>\n",
       "      <td>0.030396</td>\n",
       "      <td>1</td>\n",
       "    </tr>\n",
       "    <tr>\n",
       "      <th>...</th>\n",
       "      <td>...</td>\n",
       "      <td>...</td>\n",
       "      <td>...</td>\n",
       "    </tr>\n",
       "    <tr>\n",
       "      <th>62</th>\n",
       "      <td>(french fries, spaghetti)</td>\n",
       "      <td>0.027596</td>\n",
       "      <td>2</td>\n",
       "    </tr>\n",
       "    <tr>\n",
       "      <th>63</th>\n",
       "      <td>(french fries, chocolate)</td>\n",
       "      <td>0.034395</td>\n",
       "      <td>2</td>\n",
       "    </tr>\n",
       "    <tr>\n",
       "      <th>64</th>\n",
       "      <td>(frozen vegetables, spaghetti)</td>\n",
       "      <td>0.027863</td>\n",
       "      <td>2</td>\n",
       "    </tr>\n",
       "    <tr>\n",
       "      <th>65</th>\n",
       "      <td>(spaghetti, chocolate)</td>\n",
       "      <td>0.039195</td>\n",
       "      <td>2</td>\n",
       "    </tr>\n",
       "    <tr>\n",
       "      <th>66</th>\n",
       "      <td>(spaghetti, ground beef)</td>\n",
       "      <td>0.039195</td>\n",
       "      <td>2</td>\n",
       "    </tr>\n",
       "  </tbody>\n",
       "</table>\n",
       "<p>67 rows × 3 columns</p>\n",
       "</div>"
      ],
      "text/plain": [
       "                         item_sets  supp_count  length\n",
       "0                           shrimp    0.071457       1\n",
       "1                          avocado    0.033329       1\n",
       "2                   cottage cheese    0.031862       1\n",
       "3                     energy drink    0.026663       1\n",
       "4                     tomato juice    0.030396       1\n",
       "..                             ...         ...     ...\n",
       "62       (french fries, spaghetti)    0.027596       2\n",
       "63       (french fries, chocolate)    0.034395       2\n",
       "64  (frozen vegetables, spaghetti)    0.027863       2\n",
       "65          (spaghetti, chocolate)    0.039195       2\n",
       "66        (spaghetti, ground beef)    0.039195       2\n",
       "\n",
       "[67 rows x 3 columns]"
      ]
     },
     "execution_count": 45,
     "metadata": {},
     "output_type": "execute_result"
    }
   ],
   "source": [
    "supp_df=result_df.copy()\n",
    "supp_df['supp_count'] = result_df['supp_count'].div(number_of_transactions)\n",
    "supp_df\n",
    "\n"
   ]
  },
  {
   "attachments": {},
   "cell_type": "markdown",
   "metadata": {},
   "source": [
    "calculate_conf is just a simple function to calculate the confidence of two rules. "
   ]
  },
  {
   "cell_type": "code",
   "execution_count": 46,
   "metadata": {},
   "outputs": [],
   "source": [
    "def calculate_conf(value1, value2):\n",
    "    return round(int(value1)/int(value2) * 100, 2)"
   ]
  },
  {
   "attachments": {},
   "cell_type": "markdown",
   "metadata": {},
   "source": [
    "In the rules function, we want to generate rules. In order to do that, It first initializes three empty lists: consequents, antecedents, and rules. It then filters the freq_item_sets DataFrame to include only itemsets with length greater than 1.\n",
    "\n",
    "Next, the function iterates through each row in the filtered DataFrame, and for each itemset row, it generates all possible association rules using a nested loop. For each pair of non-identical items in the itemset, the function creates a tuple containing the antecedent and consequent of the rule, adds the tuple to the rules list, and prints the rule number along with the antecedent and consequent. The antecedent and consequent are also added to the respective antecedents and consequents lists.\n",
    "\n",
    "Finally, the function returns the rules, antecedents, and consequents lists. We return antecedent and consequent lists as well, because want to show them in our final result."
   ]
  },
  {
   "cell_type": "code",
   "execution_count": 47,
   "metadata": {},
   "outputs": [],
   "source": [
    "def rules(freq_item_sets):\n",
    "    consequents=[]\n",
    "    antecedents=[]\n",
    "    rules=[]\n",
    "    filtered_df = freq_item_sets[freq_item_sets['length'] > 1]\n",
    "    rule_num =0\n",
    "    for row in filtered_df.item_sets:\n",
    "        for antecedent in row:\n",
    "            for consequent in row:\n",
    "                 if antecedent != consequent:\n",
    "                    rule_num += 1\n",
    "                    tuples = (antecedent, consequent)\n",
    "                    rules.append(tuples)\n",
    "                    \n",
    "                    print(\"Rule {}: {} -> {}\".format(rule_num,antecedent, consequent))\n",
    "                    print(\"--------------------------------------------------\")\n",
    "                    antecedents.append(antecedent)\n",
    "                    consequents.append(consequent)\n",
    "\n",
    "\n",
    "    return rules,antecedents,consequents"
   ]
  },
  {
   "cell_type": "code",
   "execution_count": 48,
   "metadata": {},
   "outputs": [
    {
     "name": "stdout",
     "output_type": "stream",
     "text": [
      "Rule 1: green tea -> mineral water\n",
      "--------------------------------------------------\n",
      "Rule 2: mineral water -> green tea\n",
      "--------------------------------------------------\n",
      "Rule 3: green tea -> french fries\n",
      "--------------------------------------------------\n",
      "Rule 4: french fries -> green tea\n",
      "--------------------------------------------------\n",
      "Rule 5: mineral water -> olive oil\n",
      "--------------------------------------------------\n",
      "Rule 6: olive oil -> mineral water\n",
      "--------------------------------------------------\n",
      "Rule 7: mineral water -> eggs\n",
      "--------------------------------------------------\n",
      "Rule 8: eggs -> mineral water\n",
      "--------------------------------------------------\n",
      "Rule 9: mineral water -> milk\n",
      "--------------------------------------------------\n",
      "Rule 10: milk -> mineral water\n",
      "--------------------------------------------------\n",
      "Rule 11: mineral water -> french fries\n",
      "--------------------------------------------------\n",
      "Rule 12: french fries -> mineral water\n",
      "--------------------------------------------------\n",
      "Rule 13: mineral water -> frozen vegetables\n",
      "--------------------------------------------------\n",
      "Rule 14: frozen vegetables -> mineral water\n",
      "--------------------------------------------------\n",
      "Rule 15: mineral water -> spaghetti\n",
      "--------------------------------------------------\n",
      "Rule 16: spaghetti -> mineral water\n",
      "--------------------------------------------------\n",
      "Rule 17: mineral water -> chocolate\n",
      "--------------------------------------------------\n",
      "Rule 18: chocolate -> mineral water\n",
      "--------------------------------------------------\n",
      "Rule 19: mineral water -> pancakes\n",
      "--------------------------------------------------\n",
      "Rule 20: pancakes -> mineral water\n",
      "--------------------------------------------------\n",
      "Rule 21: mineral water -> ground beef\n",
      "--------------------------------------------------\n",
      "Rule 22: ground beef -> mineral water\n",
      "--------------------------------------------------\n",
      "Rule 23: mineral water -> cake\n",
      "--------------------------------------------------\n",
      "Rule 24: cake -> mineral water\n",
      "--------------------------------------------------\n",
      "Rule 25: burgers -> eggs\n",
      "--------------------------------------------------\n",
      "Rule 26: eggs -> burgers\n",
      "--------------------------------------------------\n",
      "Rule 27: eggs -> milk\n",
      "--------------------------------------------------\n",
      "Rule 28: milk -> eggs\n",
      "--------------------------------------------------\n",
      "Rule 29: eggs -> french fries\n",
      "--------------------------------------------------\n",
      "Rule 30: french fries -> eggs\n",
      "--------------------------------------------------\n",
      "Rule 31: eggs -> spaghetti\n",
      "--------------------------------------------------\n",
      "Rule 32: spaghetti -> eggs\n",
      "--------------------------------------------------\n",
      "Rule 33: eggs -> chocolate\n",
      "--------------------------------------------------\n",
      "Rule 34: chocolate -> eggs\n",
      "--------------------------------------------------\n",
      "Rule 35: milk -> spaghetti\n",
      "--------------------------------------------------\n",
      "Rule 36: spaghetti -> milk\n",
      "--------------------------------------------------\n",
      "Rule 37: milk -> chocolate\n",
      "--------------------------------------------------\n",
      "Rule 38: chocolate -> milk\n",
      "--------------------------------------------------\n",
      "Rule 39: french fries -> spaghetti\n",
      "--------------------------------------------------\n",
      "Rule 40: spaghetti -> french fries\n",
      "--------------------------------------------------\n",
      "Rule 41: french fries -> chocolate\n",
      "--------------------------------------------------\n",
      "Rule 42: chocolate -> french fries\n",
      "--------------------------------------------------\n",
      "Rule 43: frozen vegetables -> spaghetti\n",
      "--------------------------------------------------\n",
      "Rule 44: spaghetti -> frozen vegetables\n",
      "--------------------------------------------------\n",
      "Rule 45: spaghetti -> chocolate\n",
      "--------------------------------------------------\n",
      "Rule 46: chocolate -> spaghetti\n",
      "--------------------------------------------------\n",
      "Rule 47: spaghetti -> ground beef\n",
      "--------------------------------------------------\n",
      "Rule 48: ground beef -> spaghetti\n",
      "--------------------------------------------------\n"
     ]
    }
   ],
   "source": [
    "rules ,antecendets,consequents=rules(freq_item_sets)"
   ]
  },
  {
   "attachments": {},
   "cell_type": "markdown",
   "metadata": {},
   "source": [
    "Now in order to compare different messures of the algorithm, we define a function for each messurement and calculate the time it takes to run. In order to do that, we use time.time at the beginning and the end of the function. Then we calculate the difference between them and that is the time it takes to run the function. All three functions: calculate_support,calculate_confidence,calculate_gini are exactly the same and just the formula for each part differs. "
   ]
  },
  {
   "cell_type": "code",
   "execution_count": 49,
   "metadata": {},
   "outputs": [],
   "source": [
    "def calculate_support(freq_item_sets):\n",
    "    start=time.time()\n",
    "    supports=[]\n",
    "    filtered_df = freq_item_sets[freq_item_sets['length'] > 1]\n",
    "    for row in filtered_df.item_sets:\n",
    "        for antecedent in row:\n",
    "            for consequent in row:\n",
    "                 if antecedent != consequent:\n",
    "                    support=filtered_df[filtered_df.item_sets == row].supp_count.iloc[0]/number_of_transactions\n",
    "                    supports.append(support)\n",
    "    \n",
    "    end=time.time() \n",
    "    elapsed_time = end - start   \n",
    "    return supports,elapsed_time\n",
    "                    \n",
    "\n",
    "        \n",
    "    "
   ]
  },
  {
   "cell_type": "code",
   "execution_count": 50,
   "metadata": {},
   "outputs": [],
   "source": [
    "supports,supp_time=calculate_support(freq_item_sets)"
   ]
  },
  {
   "cell_type": "code",
   "execution_count": 51,
   "metadata": {},
   "outputs": [],
   "source": [
    "def calculate_confidence(itemsets):\n",
    "    start=time.time()\n",
    "    confidences=[]\n",
    "    \n",
    "    filtered_df = freq_item_sets[freq_item_sets['length'] > 1]\n",
    "    for row in filtered_df.item_sets:\n",
    "        for antecedent in row:\n",
    "            for consequent in row:\n",
    "                 if antecedent != consequent:\n",
    "                        confidence = calculate_conf(freq_item_sets[freq_item_sets.item_sets == row].supp_count,freq_item_sets[freq_item_sets.item_sets ==antecedent ].supp_count)\n",
    "                        confidences.append(confidence)\n",
    "                        \n",
    "\n",
    "    end=time.time() \n",
    "    elapsed_time = end - start\n",
    "    return confidences,elapsed_time\n",
    "                    "
   ]
  },
  {
   "cell_type": "code",
   "execution_count": 52,
   "metadata": {},
   "outputs": [],
   "source": [
    "confidences,confidence_time=calculate_confidence(freq_item_sets)"
   ]
  },
  {
   "cell_type": "code",
   "execution_count": 53,
   "metadata": {},
   "outputs": [],
   "source": [
    "def calculate_gini(itemsets):\n",
    "    start=time.time()\n",
    "    ginies=[]\n",
    "    filtered_df = freq_item_sets[freq_item_sets['length'] > 1]\n",
    "    for row in filtered_df.item_sets:\n",
    "        for antecedent in row:\n",
    "            for consequent in row:\n",
    "                 if antecedent != consequent:\n",
    "                     antecedent_support=freq_item_sets[freq_item_sets.item_sets ==antecedent ].supp_count.iloc[0]/number_of_transactions\n",
    "                     consequent_support=freq_item_sets[freq_item_sets.item_sets == row].supp_count.iloc[0]/number_of_transactions\n",
    "                     gini=1-(math.sqrt(antecedent_support) + math.sqrt(consequent_support))\n",
    "                     ginies.append(gini)\n",
    "    end=time.time()\n",
    "    elapsed_time = end - start   \n",
    "    return ginies,elapsed_time\n",
    "                    \n"
   ]
  },
  {
   "cell_type": "code",
   "execution_count": 54,
   "metadata": {},
   "outputs": [],
   "source": [
    "ginies, gini_time=calculate_gini(freq_item_sets)"
   ]
  },
  {
   "attachments": {},
   "cell_type": "markdown",
   "metadata": {},
   "source": [
    "Here we can see that support is faster than the confidence and gini. And confidence and gini are equal "
   ]
  },
  {
   "cell_type": "code",
   "execution_count": 55,
   "metadata": {},
   "outputs": [
    {
     "name": "stdout",
     "output_type": "stream",
     "text": [
      "Elapesd time for each measurement is : support based:0.013962745666503906, confidence based:0.026928424835205078, gini based:0.025931358337402344\n"
     ]
    }
   ],
   "source": [
    "print(\"Elapesd time for each measurement is : support based:{}, confidence based:{}, gini based:{}\".format(supp_time,confidence_time,gini_time))"
   ]
  },
  {
   "cell_type": "code",
   "execution_count": 56,
   "metadata": {},
   "outputs": [],
   "source": [
    "final_df=pd.DataFrame()\n",
    "\n",
    "final_df['antecendet']=antecendets\n",
    "final_df['consequent']=consequents\n",
    "final_df['support']=supports\n",
    "final_df['confidence']=confidences\n",
    "final_df['gini']=ginies\n",
    "\n",
    "\n",
    "\n",
    "\n"
   ]
  },
  {
   "cell_type": "code",
   "execution_count": 57,
   "metadata": {},
   "outputs": [
    {
     "data": {
      "text/html": [
       "<div>\n",
       "<style scoped>\n",
       "    .dataframe tbody tr th:only-of-type {\n",
       "        vertical-align: middle;\n",
       "    }\n",
       "\n",
       "    .dataframe tbody tr th {\n",
       "        vertical-align: top;\n",
       "    }\n",
       "\n",
       "    .dataframe thead th {\n",
       "        text-align: right;\n",
       "    }\n",
       "</style>\n",
       "<table border=\"1\" class=\"dataframe\">\n",
       "  <thead>\n",
       "    <tr style=\"text-align: right;\">\n",
       "      <th></th>\n",
       "      <th>antecendet</th>\n",
       "      <th>consequent</th>\n",
       "      <th>support</th>\n",
       "      <th>confidence</th>\n",
       "      <th>gini</th>\n",
       "    </tr>\n",
       "  </thead>\n",
       "  <tbody>\n",
       "    <tr>\n",
       "      <th>0</th>\n",
       "      <td>green tea</td>\n",
       "      <td>mineral water</td>\n",
       "      <td>0.031063</td>\n",
       "      <td>23.51</td>\n",
       "      <td>0.460277</td>\n",
       "    </tr>\n",
       "    <tr>\n",
       "      <th>1</th>\n",
       "      <td>mineral water</td>\n",
       "      <td>green tea</td>\n",
       "      <td>0.031063</td>\n",
       "      <td>13.03</td>\n",
       "      <td>0.335525</td>\n",
       "    </tr>\n",
       "    <tr>\n",
       "      <th>2</th>\n",
       "      <td>green tea</td>\n",
       "      <td>french fries</td>\n",
       "      <td>0.028530</td>\n",
       "      <td>21.59</td>\n",
       "      <td>0.467616</td>\n",
       "    </tr>\n",
       "    <tr>\n",
       "      <th>3</th>\n",
       "      <td>french fries</td>\n",
       "      <td>green tea</td>\n",
       "      <td>0.028530</td>\n",
       "      <td>16.69</td>\n",
       "      <td>0.417680</td>\n",
       "    </tr>\n",
       "    <tr>\n",
       "      <th>4</th>\n",
       "      <td>mineral water</td>\n",
       "      <td>olive oil</td>\n",
       "      <td>0.027596</td>\n",
       "      <td>11.58</td>\n",
       "      <td>0.345649</td>\n",
       "    </tr>\n",
       "    <tr>\n",
       "      <th>5</th>\n",
       "      <td>olive oil</td>\n",
       "      <td>mineral water</td>\n",
       "      <td>0.027596</td>\n",
       "      <td>41.90</td>\n",
       "      <td>0.577251</td>\n",
       "    </tr>\n",
       "    <tr>\n",
       "      <th>6</th>\n",
       "      <td>mineral water</td>\n",
       "      <td>eggs</td>\n",
       "      <td>0.050927</td>\n",
       "      <td>21.36</td>\n",
       "      <td>0.286101</td>\n",
       "    </tr>\n",
       "    <tr>\n",
       "      <th>7</th>\n",
       "      <td>eggs</td>\n",
       "      <td>mineral water</td>\n",
       "      <td>0.050927</td>\n",
       "      <td>28.34</td>\n",
       "      <td>0.350409</td>\n",
       "    </tr>\n",
       "    <tr>\n",
       "      <th>8</th>\n",
       "      <td>mineral water</td>\n",
       "      <td>milk</td>\n",
       "      <td>0.047994</td>\n",
       "      <td>20.13</td>\n",
       "      <td>0.292696</td>\n",
       "    </tr>\n",
       "    <tr>\n",
       "      <th>9</th>\n",
       "      <td>milk</td>\n",
       "      <td>mineral water</td>\n",
       "      <td>0.047994</td>\n",
       "      <td>37.04</td>\n",
       "      <td>0.420950</td>\n",
       "    </tr>\n",
       "    <tr>\n",
       "      <th>10</th>\n",
       "      <td>mineral water</td>\n",
       "      <td>french fries</td>\n",
       "      <td>0.033729</td>\n",
       "      <td>14.15</td>\n",
       "      <td>0.328116</td>\n",
       "    </tr>\n",
       "    <tr>\n",
       "      <th>11</th>\n",
       "      <td>french fries</td>\n",
       "      <td>mineral water</td>\n",
       "      <td>0.033729</td>\n",
       "      <td>19.73</td>\n",
       "      <td>0.402933</td>\n",
       "    </tr>\n",
       "    <tr>\n",
       "      <th>12</th>\n",
       "      <td>mineral water</td>\n",
       "      <td>frozen vegetables</td>\n",
       "      <td>0.035729</td>\n",
       "      <td>14.99</td>\n",
       "      <td>0.322750</td>\n",
       "    </tr>\n",
       "    <tr>\n",
       "      <th>13</th>\n",
       "      <td>frozen vegetables</td>\n",
       "      <td>mineral water</td>\n",
       "      <td>0.035729</td>\n",
       "      <td>37.48</td>\n",
       "      <td>0.502240</td>\n",
       "    </tr>\n",
       "    <tr>\n",
       "      <th>14</th>\n",
       "      <td>mineral water</td>\n",
       "      <td>spaghetti</td>\n",
       "      <td>0.059725</td>\n",
       "      <td>25.06</td>\n",
       "      <td>0.267383</td>\n",
       "    </tr>\n",
       "    <tr>\n",
       "      <th>15</th>\n",
       "      <td>spaghetti</td>\n",
       "      <td>mineral water</td>\n",
       "      <td>0.059725</td>\n",
       "      <td>34.30</td>\n",
       "      <td>0.338347</td>\n",
       "    </tr>\n",
       "    <tr>\n",
       "      <th>16</th>\n",
       "      <td>mineral water</td>\n",
       "      <td>chocolate</td>\n",
       "      <td>0.052660</td>\n",
       "      <td>22.09</td>\n",
       "      <td>0.282293</td>\n",
       "    </tr>\n",
       "    <tr>\n",
       "      <th>17</th>\n",
       "      <td>chocolate</td>\n",
       "      <td>mineral water</td>\n",
       "      <td>0.052660</td>\n",
       "      <td>32.11</td>\n",
       "      <td>0.365581</td>\n",
       "    </tr>\n",
       "    <tr>\n",
       "      <th>18</th>\n",
       "      <td>mineral water</td>\n",
       "      <td>pancakes</td>\n",
       "      <td>0.033729</td>\n",
       "      <td>14.15</td>\n",
       "      <td>0.328116</td>\n",
       "    </tr>\n",
       "    <tr>\n",
       "      <th>19</th>\n",
       "      <td>pancakes</td>\n",
       "      <td>mineral water</td>\n",
       "      <td>0.033729</td>\n",
       "      <td>35.48</td>\n",
       "      <td>0.508038</td>\n",
       "    </tr>\n",
       "    <tr>\n",
       "      <th>20</th>\n",
       "      <td>mineral water</td>\n",
       "      <td>ground beef</td>\n",
       "      <td>0.040928</td>\n",
       "      <td>17.17</td>\n",
       "      <td>0.309464</td>\n",
       "    </tr>\n",
       "    <tr>\n",
       "      <th>21</th>\n",
       "      <td>ground beef</td>\n",
       "      <td>mineral water</td>\n",
       "      <td>0.040928</td>\n",
       "      <td>41.66</td>\n",
       "      <td>0.484239</td>\n",
       "    </tr>\n",
       "    <tr>\n",
       "      <th>22</th>\n",
       "      <td>mineral water</td>\n",
       "      <td>cake</td>\n",
       "      <td>0.027463</td>\n",
       "      <td>11.52</td>\n",
       "      <td>0.346051</td>\n",
       "    </tr>\n",
       "    <tr>\n",
       "      <th>23</th>\n",
       "      <td>cake</td>\n",
       "      <td>mineral water</td>\n",
       "      <td>0.027463</td>\n",
       "      <td>33.88</td>\n",
       "      <td>0.549577</td>\n",
       "    </tr>\n",
       "    <tr>\n",
       "      <th>24</th>\n",
       "      <td>burgers</td>\n",
       "      <td>eggs</td>\n",
       "      <td>0.028796</td>\n",
       "      <td>33.03</td>\n",
       "      <td>0.535029</td>\n",
       "    </tr>\n",
       "    <tr>\n",
       "      <th>25</th>\n",
       "      <td>eggs</td>\n",
       "      <td>burgers</td>\n",
       "      <td>0.028796</td>\n",
       "      <td>16.02</td>\n",
       "      <td>0.406384</td>\n",
       "    </tr>\n",
       "    <tr>\n",
       "      <th>26</th>\n",
       "      <td>eggs</td>\n",
       "      <td>milk</td>\n",
       "      <td>0.030796</td>\n",
       "      <td>17.14</td>\n",
       "      <td>0.400591</td>\n",
       "    </tr>\n",
       "    <tr>\n",
       "      <th>27</th>\n",
       "      <td>milk</td>\n",
       "      <td>eggs</td>\n",
       "      <td>0.030796</td>\n",
       "      <td>23.77</td>\n",
       "      <td>0.464536</td>\n",
       "    </tr>\n",
       "    <tr>\n",
       "      <th>28</th>\n",
       "      <td>eggs</td>\n",
       "      <td>french fries</td>\n",
       "      <td>0.036395</td>\n",
       "      <td>20.25</td>\n",
       "      <td>0.385303</td>\n",
       "    </tr>\n",
       "    <tr>\n",
       "      <th>29</th>\n",
       "      <td>french fries</td>\n",
       "      <td>eggs</td>\n",
       "      <td>0.036395</td>\n",
       "      <td>21.29</td>\n",
       "      <td>0.395812</td>\n",
       "    </tr>\n",
       "    <tr>\n",
       "      <th>30</th>\n",
       "      <td>eggs</td>\n",
       "      <td>spaghetti</td>\n",
       "      <td>0.036528</td>\n",
       "      <td>20.33</td>\n",
       "      <td>0.384954</td>\n",
       "    </tr>\n",
       "    <tr>\n",
       "      <th>31</th>\n",
       "      <td>spaghetti</td>\n",
       "      <td>eggs</td>\n",
       "      <td>0.036528</td>\n",
       "      <td>20.98</td>\n",
       "      <td>0.391611</td>\n",
       "    </tr>\n",
       "    <tr>\n",
       "      <th>32</th>\n",
       "      <td>eggs</td>\n",
       "      <td>chocolate</td>\n",
       "      <td>0.033196</td>\n",
       "      <td>18.47</td>\n",
       "      <td>0.393882</td>\n",
       "    </tr>\n",
       "    <tr>\n",
       "      <th>33</th>\n",
       "      <td>chocolate</td>\n",
       "      <td>eggs</td>\n",
       "      <td>0.033196</td>\n",
       "      <td>20.24</td>\n",
       "      <td>0.412861</td>\n",
       "    </tr>\n",
       "    <tr>\n",
       "      <th>34</th>\n",
       "      <td>milk</td>\n",
       "      <td>spaghetti</td>\n",
       "      <td>0.035462</td>\n",
       "      <td>27.37</td>\n",
       "      <td>0.451711</td>\n",
       "    </tr>\n",
       "    <tr>\n",
       "      <th>35</th>\n",
       "      <td>spaghetti</td>\n",
       "      <td>milk</td>\n",
       "      <td>0.035462</td>\n",
       "      <td>20.37</td>\n",
       "      <td>0.394422</td>\n",
       "    </tr>\n",
       "    <tr>\n",
       "      <th>36</th>\n",
       "      <td>milk</td>\n",
       "      <td>chocolate</td>\n",
       "      <td>0.032129</td>\n",
       "      <td>24.79</td>\n",
       "      <td>0.460778</td>\n",
       "    </tr>\n",
       "    <tr>\n",
       "      <th>37</th>\n",
       "      <td>chocolate</td>\n",
       "      <td>milk</td>\n",
       "      <td>0.032129</td>\n",
       "      <td>19.59</td>\n",
       "      <td>0.415812</td>\n",
       "    </tr>\n",
       "    <tr>\n",
       "      <th>38</th>\n",
       "      <td>french fries</td>\n",
       "      <td>spaghetti</td>\n",
       "      <td>0.027596</td>\n",
       "      <td>16.15</td>\n",
       "      <td>0.420465</td>\n",
       "    </tr>\n",
       "    <tr>\n",
       "      <th>39</th>\n",
       "      <td>spaghetti</td>\n",
       "      <td>french fries</td>\n",
       "      <td>0.027596</td>\n",
       "      <td>15.85</td>\n",
       "      <td>0.416614</td>\n",
       "    </tr>\n",
       "    <tr>\n",
       "      <th>40</th>\n",
       "      <td>french fries</td>\n",
       "      <td>chocolate</td>\n",
       "      <td>0.034395</td>\n",
       "      <td>20.12</td>\n",
       "      <td>0.401127</td>\n",
       "    </tr>\n",
       "    <tr>\n",
       "      <th>41</th>\n",
       "      <td>chocolate</td>\n",
       "      <td>french fries</td>\n",
       "      <td>0.034395</td>\n",
       "      <td>20.98</td>\n",
       "      <td>0.409598</td>\n",
       "    </tr>\n",
       "    <tr>\n",
       "      <th>42</th>\n",
       "      <td>frozen vegetables</td>\n",
       "      <td>spaghetti</td>\n",
       "      <td>0.027863</td>\n",
       "      <td>29.23</td>\n",
       "      <td>0.524338</td>\n",
       "    </tr>\n",
       "    <tr>\n",
       "      <th>43</th>\n",
       "      <td>spaghetti</td>\n",
       "      <td>frozen vegetables</td>\n",
       "      <td>0.027863</td>\n",
       "      <td>16.00</td>\n",
       "      <td>0.415813</td>\n",
       "    </tr>\n",
       "    <tr>\n",
       "      <th>44</th>\n",
       "      <td>spaghetti</td>\n",
       "      <td>chocolate</td>\n",
       "      <td>0.039195</td>\n",
       "      <td>22.51</td>\n",
       "      <td>0.384758</td>\n",
       "    </tr>\n",
       "    <tr>\n",
       "      <th>45</th>\n",
       "      <td>chocolate</td>\n",
       "      <td>spaghetti</td>\n",
       "      <td>0.039195</td>\n",
       "      <td>23.90</td>\n",
       "      <td>0.397081</td>\n",
       "    </tr>\n",
       "    <tr>\n",
       "      <th>46</th>\n",
       "      <td>spaghetti</td>\n",
       "      <td>ground beef</td>\n",
       "      <td>0.039195</td>\n",
       "      <td>22.51</td>\n",
       "      <td>0.384758</td>\n",
       "    </tr>\n",
       "    <tr>\n",
       "      <th>47</th>\n",
       "      <td>ground beef</td>\n",
       "      <td>spaghetti</td>\n",
       "      <td>0.039195</td>\n",
       "      <td>39.89</td>\n",
       "      <td>0.488569</td>\n",
       "    </tr>\n",
       "  </tbody>\n",
       "</table>\n",
       "</div>"
      ],
      "text/plain": [
       "           antecendet         consequent   support  confidence      gini\n",
       "0           green tea      mineral water  0.031063       23.51  0.460277\n",
       "1       mineral water          green tea  0.031063       13.03  0.335525\n",
       "2           green tea       french fries  0.028530       21.59  0.467616\n",
       "3        french fries          green tea  0.028530       16.69  0.417680\n",
       "4       mineral water          olive oil  0.027596       11.58  0.345649\n",
       "5           olive oil      mineral water  0.027596       41.90  0.577251\n",
       "6       mineral water               eggs  0.050927       21.36  0.286101\n",
       "7                eggs      mineral water  0.050927       28.34  0.350409\n",
       "8       mineral water               milk  0.047994       20.13  0.292696\n",
       "9                milk      mineral water  0.047994       37.04  0.420950\n",
       "10      mineral water       french fries  0.033729       14.15  0.328116\n",
       "11       french fries      mineral water  0.033729       19.73  0.402933\n",
       "12      mineral water  frozen vegetables  0.035729       14.99  0.322750\n",
       "13  frozen vegetables      mineral water  0.035729       37.48  0.502240\n",
       "14      mineral water          spaghetti  0.059725       25.06  0.267383\n",
       "15          spaghetti      mineral water  0.059725       34.30  0.338347\n",
       "16      mineral water          chocolate  0.052660       22.09  0.282293\n",
       "17          chocolate      mineral water  0.052660       32.11  0.365581\n",
       "18      mineral water           pancakes  0.033729       14.15  0.328116\n",
       "19           pancakes      mineral water  0.033729       35.48  0.508038\n",
       "20      mineral water        ground beef  0.040928       17.17  0.309464\n",
       "21        ground beef      mineral water  0.040928       41.66  0.484239\n",
       "22      mineral water               cake  0.027463       11.52  0.346051\n",
       "23               cake      mineral water  0.027463       33.88  0.549577\n",
       "24            burgers               eggs  0.028796       33.03  0.535029\n",
       "25               eggs            burgers  0.028796       16.02  0.406384\n",
       "26               eggs               milk  0.030796       17.14  0.400591\n",
       "27               milk               eggs  0.030796       23.77  0.464536\n",
       "28               eggs       french fries  0.036395       20.25  0.385303\n",
       "29       french fries               eggs  0.036395       21.29  0.395812\n",
       "30               eggs          spaghetti  0.036528       20.33  0.384954\n",
       "31          spaghetti               eggs  0.036528       20.98  0.391611\n",
       "32               eggs          chocolate  0.033196       18.47  0.393882\n",
       "33          chocolate               eggs  0.033196       20.24  0.412861\n",
       "34               milk          spaghetti  0.035462       27.37  0.451711\n",
       "35          spaghetti               milk  0.035462       20.37  0.394422\n",
       "36               milk          chocolate  0.032129       24.79  0.460778\n",
       "37          chocolate               milk  0.032129       19.59  0.415812\n",
       "38       french fries          spaghetti  0.027596       16.15  0.420465\n",
       "39          spaghetti       french fries  0.027596       15.85  0.416614\n",
       "40       french fries          chocolate  0.034395       20.12  0.401127\n",
       "41          chocolate       french fries  0.034395       20.98  0.409598\n",
       "42  frozen vegetables          spaghetti  0.027863       29.23  0.524338\n",
       "43          spaghetti  frozen vegetables  0.027863       16.00  0.415813\n",
       "44          spaghetti          chocolate  0.039195       22.51  0.384758\n",
       "45          chocolate          spaghetti  0.039195       23.90  0.397081\n",
       "46          spaghetti        ground beef  0.039195       22.51  0.384758\n",
       "47        ground beef          spaghetti  0.039195       39.89  0.488569"
      ]
     },
     "execution_count": 57,
     "metadata": {},
     "output_type": "execute_result"
    }
   ],
   "source": [
    "final_df\n"
   ]
  },
  {
   "attachments": {},
   "cell_type": "markdown",
   "metadata": {},
   "source": [
    "The questions"
   ]
  },
  {
   "attachments": {},
   "cell_type": "markdown",
   "metadata": {},
   "source": [
    "\n",
    "1- How did you handle Nan values in the dataset?\n",
    "Well we first replace them with 0 (fillna). then in count_item we check that if an item is not equal to 0 we add them to our list. By doing this, we will not use them in our algorithm. "
   ]
  },
  {
   "attachments": {},
   "cell_type": "markdown",
   "metadata": {},
   "source": [
    "2- In what aspect is this similar to the Naïve Bayes algorithm? Why?\n",
    "\n",
    "The similarity lies in the fact that both algorithms rely on probability-based approaches to make predictions. Specifically, Apriori uses probability to identify frequent itemsets in a dataset, while Naive Bayes utilizes probability to classify data points based on their features.\n",
    "\n",
    "In other words, both algorithms use the concept of conditional probability to make predictions. The Apriori algorithm calculates the probability that two items will co-occur in a transaction, while Naive Bayes calculates the conditional probability of a feature given a class label."
   ]
  },
  {
   "attachments": {},
   "cell_type": "markdown",
   "metadata": {},
   "source": [
    "3. How do min_sup and min_conf parameters affect your results? \n",
    "\n",
    "in general, increasing min_sup will result in fewer frequent itemsets being discovered, while decreasing min_sup will result in more frequent itemsets being discovered. On the other hand, increasing min_conf will result in fewer association rules being generated, while decreasing min_conf will result in more association rules being generated."
   ]
  },
  {
   "attachments": {},
   "cell_type": "markdown",
   "metadata": {},
   "source": [
    "Comparison"
   ]
  },
  {
   "attachments": {},
   "cell_type": "markdown",
   "metadata": {},
   "source": [
    "As we saw before, the support algorithm run faster than confidence and gini. But the problem with support algorithm is that, it can not differentiate between a-->b and b-->a because both of them have a same support. However, confidence and gini can differentiate between same rules. gini and confidence's run time is the same."
   ]
  }
 ],
 "metadata": {
  "kernelspec": {
   "display_name": "Python 3",
   "language": "python",
   "name": "python3"
  },
  "language_info": {
   "codemirror_mode": {
    "name": "ipython",
    "version": 3
   },
   "file_extension": ".py",
   "mimetype": "text/x-python",
   "name": "python",
   "nbconvert_exporter": "python",
   "pygments_lexer": "ipython3",
   "version": "3.9.6"
  },
  "orig_nbformat": 4
 },
 "nbformat": 4,
 "nbformat_minor": 2
}
